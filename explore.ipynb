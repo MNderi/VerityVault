{
 "cells": [
  {
   "cell_type": "code",
   "execution_count": 2,
   "metadata": {},
   "outputs": [],
   "source": [
    "import pandas as pd\n",
    "import numpy as np"
   ]
  },
  {
   "cell_type": "code",
   "execution_count": 8,
   "metadata": {},
   "outputs": [
    {
     "data": {
      "text/html": [
       "<div>\n",
       "<style scoped>\n",
       "    .dataframe tbody tr th:only-of-type {\n",
       "        vertical-align: middle;\n",
       "    }\n",
       "\n",
       "    .dataframe tbody tr th {\n",
       "        vertical-align: top;\n",
       "    }\n",
       "\n",
       "    .dataframe thead th {\n",
       "        text-align: right;\n",
       "    }\n",
       "</style>\n",
       "<table border=\"1\" class=\"dataframe\">\n",
       "  <thead>\n",
       "    <tr style=\"text-align: right;\">\n",
       "      <th></th>\n",
       "      <th>updated_label</th>\n",
       "      <th>source_article</th>\n",
       "    </tr>\n",
       "  </thead>\n",
       "  <tbody>\n",
       "    <tr>\n",
       "      <th>0</th>\n",
       "      <td>faulty generalization</td>\n",
       "      <td>\"Annie must like Starbucks because all white g...</td>\n",
       "    </tr>\n",
       "    <tr>\n",
       "      <th>1</th>\n",
       "      <td>faulty generalization</td>\n",
       "      <td>It is warmer this year in Las Vegas as compare...</td>\n",
       "    </tr>\n",
       "    <tr>\n",
       "      <th>2</th>\n",
       "      <td>faulty generalization</td>\n",
       "      <td>\"The two courses I took at UF were not very in...</td>\n",
       "    </tr>\n",
       "  </tbody>\n",
       "</table>\n",
       "</div>"
      ],
      "text/plain": [
       "           updated_label                                     source_article\n",
       "0  faulty generalization  \"Annie must like Starbucks because all white g...\n",
       "1  faulty generalization  It is warmer this year in Las Vegas as compare...\n",
       "2  faulty generalization  \"The two courses I took at UF were not very in..."
      ]
     },
     "execution_count": 8,
     "metadata": {},
     "output_type": "execute_result"
    }
   ],
   "source": [
    "working_data=pd.read_csv('augmented_data.csv')\n",
    "working_data.head(3)"
   ]
  },
  {
   "cell_type": "code",
   "execution_count": 9,
   "metadata": {},
   "outputs": [
    {
     "data": {
      "text/plain": [
       "(14000, 2)"
      ]
     },
     "execution_count": 9,
     "metadata": {},
     "output_type": "execute_result"
    }
   ],
   "source": [
    "working_data.shape"
   ]
  },
  {
   "cell_type": "code",
   "execution_count": 10,
   "metadata": {},
   "outputs": [
    {
     "data": {
      "text/plain": [
       "(13969, 2)"
      ]
     },
     "execution_count": 10,
     "metadata": {},
     "output_type": "execute_result"
    }
   ],
   "source": [
    "working_data=working_data.drop_duplicates()\n",
    "working_data.shape"
   ]
  },
  {
   "cell_type": "code",
   "execution_count": 12,
   "metadata": {},
   "outputs": [
    {
     "data": {
      "text/html": [
       "<div>\n",
       "<style scoped>\n",
       "    .dataframe tbody tr th:only-of-type {\n",
       "        vertical-align: middle;\n",
       "    }\n",
       "\n",
       "    .dataframe tbody tr th {\n",
       "        vertical-align: top;\n",
       "    }\n",
       "\n",
       "    .dataframe thead th {\n",
       "        text-align: right;\n",
       "    }\n",
       "</style>\n",
       "<table border=\"1\" class=\"dataframe\">\n",
       "  <thead>\n",
       "    <tr style=\"text-align: right;\">\n",
       "      <th></th>\n",
       "      <th>updated_label</th>\n",
       "      <th>source_article</th>\n",
       "    </tr>\n",
       "  </thead>\n",
       "  <tbody>\n",
       "    <tr>\n",
       "      <th>13997</th>\n",
       "      <td>miscellaneous</td>\n",
       "      <td>Who could disagree over the bipartisan plan to...</td>\n",
       "    </tr>\n",
       "    <tr>\n",
       "      <th>13998</th>\n",
       "      <td>miscellaneous</td>\n",
       "      <td>Who could disagree on the bipartisan plan to r...</td>\n",
       "    </tr>\n",
       "    <tr>\n",
       "      <th>13999</th>\n",
       "      <td>miscellaneous</td>\n",
       "      <td>Who could disagree with the bipartisan plan an...</td>\n",
       "    </tr>\n",
       "  </tbody>\n",
       "</table>\n",
       "</div>"
      ],
      "text/plain": [
       "       updated_label                                     source_article\n",
       "13997  miscellaneous  Who could disagree over the bipartisan plan to...\n",
       "13998  miscellaneous  Who could disagree on the bipartisan plan to r...\n",
       "13999  miscellaneous  Who could disagree with the bipartisan plan an..."
      ]
     },
     "execution_count": 12,
     "metadata": {},
     "output_type": "execute_result"
    }
   ],
   "source": [
    "working_data.tail(3)"
   ]
  },
  {
   "cell_type": "code",
   "execution_count": 15,
   "metadata": {},
   "outputs": [
    {
     "name": "stdout",
     "output_type": "stream",
     "text": [
      "Number of rows with 'miscellaneous' label: 999\n"
     ]
    }
   ],
   "source": [
    "miscellaneous_count = working_data[working_data['updated_label'] == 'miscellaneous'].shape[0]\n",
    "\n",
    "print(f\"Number of rows with 'miscellaneous' label: {miscellaneous_count}\")"
   ]
  },
  {
   "cell_type": "code",
   "execution_count": 16,
   "metadata": {},
   "outputs": [
    {
     "data": {
      "text/plain": [
       "(12970, 2)"
      ]
     },
     "execution_count": 16,
     "metadata": {},
     "output_type": "execute_result"
    }
   ],
   "source": [
    "working_data=working_data[working_data['updated_label']!='miscellaneous']\n",
    "working_data.shape"
   ]
  },
  {
   "cell_type": "code",
   "execution_count": 17,
   "metadata": {},
   "outputs": [
    {
     "name": "stdout",
     "output_type": "stream",
     "text": [
      "false causality           999\n",
      "fallacy of logic          999\n",
      "fallacy of relevance      999\n",
      "fallacy of credibility    999\n",
      "faulty generalization     998\n",
      "appeal to emotion         998\n",
      "fallacy of extension      998\n",
      "circular reasoning        997\n",
      "ad hominem                997\n",
      "equivocation              997\n",
      "intentional               997\n",
      "ad populum                996\n",
      "false dilemma             996\n",
      "Name: updated_label, dtype: int64\n"
     ]
    }
   ],
   "source": [
    "class_counts = working_data['updated_label'].value_counts()\n",
    "\n",
    "print(class_counts)"
   ]
  },
  {
   "cell_type": "code",
   "execution_count": 18,
   "metadata": {},
   "outputs": [
    {
     "name": "stderr",
     "output_type": "stream",
     "text": [
      "C:\\Users\\User\\AppData\\Local\\Temp\\ipykernel_29856\\2329233188.py:1: SettingWithCopyWarning: \n",
      "A value is trying to be set on a copy of a slice from a DataFrame\n",
      "\n",
      "See the caveats in the documentation: https://pandas.pydata.org/pandas-docs/stable/user_guide/indexing.html#returning-a-view-versus-a-copy\n",
      "  working_data.rename(columns={'updated_label': 'label'}, inplace=True)\n"
     ]
    }
   ],
   "source": [
    "working_data.rename(columns={'updated_label': 'label'}, inplace=True)\n"
   ]
  },
  {
   "cell_type": "code",
   "execution_count": 19,
   "metadata": {},
   "outputs": [
    {
     "data": {
      "text/html": [
       "<div>\n",
       "<style scoped>\n",
       "    .dataframe tbody tr th:only-of-type {\n",
       "        vertical-align: middle;\n",
       "    }\n",
       "\n",
       "    .dataframe tbody tr th {\n",
       "        vertical-align: top;\n",
       "    }\n",
       "\n",
       "    .dataframe thead th {\n",
       "        text-align: right;\n",
       "    }\n",
       "</style>\n",
       "<table border=\"1\" class=\"dataframe\">\n",
       "  <thead>\n",
       "    <tr style=\"text-align: right;\">\n",
       "      <th></th>\n",
       "      <th>label</th>\n",
       "      <th>source_article</th>\n",
       "    </tr>\n",
       "  </thead>\n",
       "  <tbody>\n",
       "    <tr>\n",
       "      <th>0</th>\n",
       "      <td>faulty generalization</td>\n",
       "      <td>\"Annie must like Starbucks because all white g...</td>\n",
       "    </tr>\n",
       "    <tr>\n",
       "      <th>1</th>\n",
       "      <td>faulty generalization</td>\n",
       "      <td>It is warmer this year in Las Vegas as compare...</td>\n",
       "    </tr>\n",
       "    <tr>\n",
       "      <th>2</th>\n",
       "      <td>faulty generalization</td>\n",
       "      <td>\"The two courses I took at UF were not very in...</td>\n",
       "    </tr>\n",
       "    <tr>\n",
       "      <th>3</th>\n",
       "      <td>faulty generalization</td>\n",
       "      <td>A driver with a New York license plate cuts yo...</td>\n",
       "    </tr>\n",
       "    <tr>\n",
       "      <th>4</th>\n",
       "      <td>faulty generalization</td>\n",
       "      <td>\"Four out of five dentists recommend Happy Glo...</td>\n",
       "    </tr>\n",
       "  </tbody>\n",
       "</table>\n",
       "</div>"
      ],
      "text/plain": [
       "                   label                                     source_article\n",
       "0  faulty generalization  \"Annie must like Starbucks because all white g...\n",
       "1  faulty generalization  It is warmer this year in Las Vegas as compare...\n",
       "2  faulty generalization  \"The two courses I took at UF were not very in...\n",
       "3  faulty generalization  A driver with a New York license plate cuts yo...\n",
       "4  faulty generalization  \"Four out of five dentists recommend Happy Glo..."
      ]
     },
     "execution_count": 19,
     "metadata": {},
     "output_type": "execute_result"
    }
   ],
   "source": [
    "working_data.head()"
   ]
  },
  {
   "cell_type": "code",
   "execution_count": 21,
   "metadata": {},
   "outputs": [],
   "source": [
    "import argparse\n",
    "from torch import nn\n",
    "import torch\n",
    "from transformers import AutoTokenizer\n",
    "from transformers import AutoModelForSequenceClassification\n",
    "from transformers import TrainingArguments, Trainer\n",
    "import numpy as np\n",
    "import os\n",
    "import json\n",
    "from sklearn.metrics import classification_report, confusion_matrix\n",
    "import glob, shutil\n"
   ]
  },
  {
   "cell_type": "code",
   "execution_count": 22,
   "metadata": {},
   "outputs": [],
   "source": [
    "working_data.to_csv('readyData.csv', index=False)"
   ]
  },
  {
   "cell_type": "code",
   "execution_count": 23,
   "metadata": {},
   "outputs": [],
   "source": [
    "mappings = {\n",
    "    'faulty generalization': 'component fallacy', \n",
    "    'false causality': 'component fallacy', \n",
    "    'false dilemma': 'component fallacy', \n",
    "    'circular reasoning': 'component fallacy', \n",
    "    'fallacy of logic': 'component fallacy', \n",
    "    'fallacy of extension': 'component fallacy', \n",
    "    'fallacy of relevance': 'fallacy of relevance', \n",
    "    'ad populum': 'fallacy of relevance', \n",
    "    'ad hominem': 'fallacy of relevance', \n",
    "    'fallacy of credibility': 'fallacy of relevance', \n",
    "    'intentional': 'fallacy of relevance', \n",
    "    'equivocation': 'equivocation', \n",
    "    'appeal to emotion': 'fallacy of relevance'\n",
    "   \n",
    "}\n",
    "\n",
    "labels = {\n",
    "    'fallacy of relevance': 0,\n",
    "    'component fallacy': 1, \n",
    "    'equivocation': 2\n",
    "}"
   ]
  },
  {
   "cell_type": "code",
   "execution_count": 32,
   "metadata": {},
   "outputs": [
    {
     "name": "stderr",
     "output_type": "stream",
     "text": [
      "C:\\Users\\User\\AppData\\Local\\Temp\\ipykernel_29856\\3348623768.py:1: SettingWithCopyWarning: \n",
      "A value is trying to be set on a copy of a slice from a DataFrame\n",
      "\n",
      "See the caveats in the documentation: https://pandas.pydata.org/pandas-docs/stable/user_guide/indexing.html#returning-a-view-versus-a-copy\n",
      "  working_data.rename(columns={'source_article': 'text'}, inplace=True)\n"
     ]
    }
   ],
   "source": [
    "working_data.rename(columns={'source_article': 'text'}, inplace=True)\n"
   ]
  },
  {
   "cell_type": "code",
   "execution_count": 33,
   "metadata": {},
   "outputs": [
    {
     "name": "stdout",
     "output_type": "stream",
     "text": [
      "                       label  \\\n",
      "0      faulty generalization   \n",
      "1      faulty generalization   \n",
      "2      faulty generalization   \n",
      "3      faulty generalization   \n",
      "4      faulty generalization   \n",
      "...                      ...   \n",
      "12998           equivocation   \n",
      "12999           equivocation   \n",
      "13000           equivocation   \n",
      "13001           equivocation   \n",
      "13002           equivocation   \n",
      "\n",
      "                                                    text broad_classification  \\\n",
      "0      \"Annie must like Starbucks because all white g...    component fallacy   \n",
      "1      It is warmer this year in Las Vegas as compare...    component fallacy   \n",
      "2      \"The two courses I took at UF were not very in...    component fallacy   \n",
      "3      A driver with a New York license plate cuts yo...    component fallacy   \n",
      "4      \"Four out of five dentists recommend Happy Glo...    component fallacy   \n",
      "...                                                  ...                  ...   \n",
      "12998  Board Member: “If this corporation is going to...         equivocation   \n",
      "12999  Board Member: “If this company is going to max...         equivocation   \n",
      "13000  Board Member: “If this company is going to dou...         equivocation   \n",
      "13001  Board Member: “If this company is going to max...         equivocation   \n",
      "13002  Board Member: “If this business is going to ma...         equivocation   \n",
      "\n",
      "       mapped_labels  \n",
      "0                  1  \n",
      "1                  1  \n",
      "2                  1  \n",
      "3                  1  \n",
      "4                  1  \n",
      "...              ...  \n",
      "12998              2  \n",
      "12999              2  \n",
      "13000              2  \n",
      "13001              2  \n",
      "13002              2  \n",
      "\n",
      "[12970 rows x 4 columns]\n"
     ]
    },
    {
     "name": "stderr",
     "output_type": "stream",
     "text": [
      "C:\\Users\\User\\AppData\\Local\\Temp\\ipykernel_29856\\2136128952.py:10: SettingWithCopyWarning: \n",
      "A value is trying to be set on a copy of a slice from a DataFrame.\n",
      "Try using .loc[row_indexer,col_indexer] = value instead\n",
      "\n",
      "See the caveats in the documentation: https://pandas.pydata.org/pandas-docs/stable/user_guide/indexing.html#returning-a-view-versus-a-copy\n",
      "  working_data['broad_classification'] = broad_classification\n",
      "C:\\Users\\User\\AppData\\Local\\Temp\\ipykernel_29856\\2136128952.py:11: SettingWithCopyWarning: \n",
      "A value is trying to be set on a copy of a slice from a DataFrame.\n",
      "Try using .loc[row_indexer,col_indexer] = value instead\n",
      "\n",
      "See the caveats in the documentation: https://pandas.pydata.org/pandas-docs/stable/user_guide/indexing.html#returning-a-view-versus-a-copy\n",
      "  working_data['mapped_labels'] = mapped_labels\n"
     ]
    }
   ],
   "source": [
    "broad_classification = []\n",
    "mapped_labels = []\n",
    "\n",
    "# Iterate through the working_data's labels and apply the mappings\n",
    "for label in working_data['label']:\n",
    "    broad_classification.append(mappings[label])\n",
    "    mapped_labels.append(labels[mappings[label]])\n",
    "\n",
    "# Add the new mappings as columns to the working_data\n",
    "working_data['broad_classification'] = broad_classification\n",
    "working_data['mapped_labels'] = mapped_labels\n",
    "\n",
    "# Display the updated working_data\n",
    "print(working_data)"
   ]
  },
  {
   "cell_type": "code",
   "execution_count": 34,
   "metadata": {},
   "outputs": [
    {
     "data": {
      "text/html": [
       "<div>\n",
       "<style scoped>\n",
       "    .dataframe tbody tr th:only-of-type {\n",
       "        vertical-align: middle;\n",
       "    }\n",
       "\n",
       "    .dataframe tbody tr th {\n",
       "        vertical-align: top;\n",
       "    }\n",
       "\n",
       "    .dataframe thead th {\n",
       "        text-align: right;\n",
       "    }\n",
       "</style>\n",
       "<table border=\"1\" class=\"dataframe\">\n",
       "  <thead>\n",
       "    <tr style=\"text-align: right;\">\n",
       "      <th></th>\n",
       "      <th>label</th>\n",
       "      <th>text</th>\n",
       "      <th>broad_classification</th>\n",
       "      <th>mapped_labels</th>\n",
       "    </tr>\n",
       "  </thead>\n",
       "  <tbody>\n",
       "    <tr>\n",
       "      <th>0</th>\n",
       "      <td>faulty generalization</td>\n",
       "      <td>\"Annie must like Starbucks because all white g...</td>\n",
       "      <td>component fallacy</td>\n",
       "      <td>1</td>\n",
       "    </tr>\n",
       "    <tr>\n",
       "      <th>1</th>\n",
       "      <td>faulty generalization</td>\n",
       "      <td>It is warmer this year in Las Vegas as compare...</td>\n",
       "      <td>component fallacy</td>\n",
       "      <td>1</td>\n",
       "    </tr>\n",
       "    <tr>\n",
       "      <th>2</th>\n",
       "      <td>faulty generalization</td>\n",
       "      <td>\"The two courses I took at UF were not very in...</td>\n",
       "      <td>component fallacy</td>\n",
       "      <td>1</td>\n",
       "    </tr>\n",
       "    <tr>\n",
       "      <th>3</th>\n",
       "      <td>faulty generalization</td>\n",
       "      <td>A driver with a New York license plate cuts yo...</td>\n",
       "      <td>component fallacy</td>\n",
       "      <td>1</td>\n",
       "    </tr>\n",
       "    <tr>\n",
       "      <th>4</th>\n",
       "      <td>faulty generalization</td>\n",
       "      <td>\"Four out of five dentists recommend Happy Glo...</td>\n",
       "      <td>component fallacy</td>\n",
       "      <td>1</td>\n",
       "    </tr>\n",
       "    <tr>\n",
       "      <th>5</th>\n",
       "      <td>faulty generalization</td>\n",
       "      <td>No one in your family surfs? But I thought you...</td>\n",
       "      <td>component fallacy</td>\n",
       "      <td>1</td>\n",
       "    </tr>\n",
       "    <tr>\n",
       "      <th>6</th>\n",
       "      <td>faulty generalization</td>\n",
       "      <td>All women are bad drivers.</td>\n",
       "      <td>component fallacy</td>\n",
       "      <td>1</td>\n",
       "    </tr>\n",
       "  </tbody>\n",
       "</table>\n",
       "</div>"
      ],
      "text/plain": [
       "                   label                                               text  \\\n",
       "0  faulty generalization  \"Annie must like Starbucks because all white g...   \n",
       "1  faulty generalization  It is warmer this year in Las Vegas as compare...   \n",
       "2  faulty generalization  \"The two courses I took at UF were not very in...   \n",
       "3  faulty generalization  A driver with a New York license plate cuts yo...   \n",
       "4  faulty generalization  \"Four out of five dentists recommend Happy Glo...   \n",
       "5  faulty generalization  No one in your family surfs? But I thought you...   \n",
       "6  faulty generalization                         All women are bad drivers.   \n",
       "\n",
       "  broad_classification  mapped_labels  \n",
       "0    component fallacy              1  \n",
       "1    component fallacy              1  \n",
       "2    component fallacy              1  \n",
       "3    component fallacy              1  \n",
       "4    component fallacy              1  \n",
       "5    component fallacy              1  \n",
       "6    component fallacy              1  "
      ]
     },
     "execution_count": 34,
     "metadata": {},
     "output_type": "execute_result"
    }
   ],
   "source": [
    "working_data.head(7)"
   ]
  },
  {
   "cell_type": "code",
   "execution_count": 36,
   "metadata": {},
   "outputs": [],
   "source": [
    "working_data = working_data.drop(['label', 'mapped_labels'], axis=1)"
   ]
  },
  {
   "cell_type": "code",
   "execution_count": 39,
   "metadata": {},
   "outputs": [],
   "source": [
    "working_data.rename(columns={'broad_classification': 'label'}, inplace=True)\n"
   ]
  },
  {
   "cell_type": "code",
   "execution_count": 40,
   "metadata": {},
   "outputs": [
    {
     "data": {
      "text/html": [
       "<div>\n",
       "<style scoped>\n",
       "    .dataframe tbody tr th:only-of-type {\n",
       "        vertical-align: middle;\n",
       "    }\n",
       "\n",
       "    .dataframe tbody tr th {\n",
       "        vertical-align: top;\n",
       "    }\n",
       "\n",
       "    .dataframe thead th {\n",
       "        text-align: right;\n",
       "    }\n",
       "</style>\n",
       "<table border=\"1\" class=\"dataframe\">\n",
       "  <thead>\n",
       "    <tr style=\"text-align: right;\">\n",
       "      <th></th>\n",
       "      <th>text</th>\n",
       "      <th>label</th>\n",
       "    </tr>\n",
       "  </thead>\n",
       "  <tbody>\n",
       "    <tr>\n",
       "      <th>0</th>\n",
       "      <td>\"Annie must like Starbucks because all white g...</td>\n",
       "      <td>component fallacy</td>\n",
       "    </tr>\n",
       "    <tr>\n",
       "      <th>1</th>\n",
       "      <td>It is warmer this year in Las Vegas as compare...</td>\n",
       "      <td>component fallacy</td>\n",
       "    </tr>\n",
       "    <tr>\n",
       "      <th>2</th>\n",
       "      <td>\"The two courses I took at UF were not very in...</td>\n",
       "      <td>component fallacy</td>\n",
       "    </tr>\n",
       "    <tr>\n",
       "      <th>3</th>\n",
       "      <td>A driver with a New York license plate cuts yo...</td>\n",
       "      <td>component fallacy</td>\n",
       "    </tr>\n",
       "    <tr>\n",
       "      <th>4</th>\n",
       "      <td>\"Four out of five dentists recommend Happy Glo...</td>\n",
       "      <td>component fallacy</td>\n",
       "    </tr>\n",
       "  </tbody>\n",
       "</table>\n",
       "</div>"
      ],
      "text/plain": [
       "                                                text              label\n",
       "0  \"Annie must like Starbucks because all white g...  component fallacy\n",
       "1  It is warmer this year in Las Vegas as compare...  component fallacy\n",
       "2  \"The two courses I took at UF were not very in...  component fallacy\n",
       "3  A driver with a New York license plate cuts yo...  component fallacy\n",
       "4  \"Four out of five dentists recommend Happy Glo...  component fallacy"
      ]
     },
     "execution_count": 40,
     "metadata": {},
     "output_type": "execute_result"
    }
   ],
   "source": [
    "working_data.head()"
   ]
  },
  {
   "cell_type": "code",
   "execution_count": 55,
   "metadata": {},
   "outputs": [],
   "source": [
    "working_data.to_csv('CoarseClassData/trainingset.csv', index=False)"
   ]
  },
  {
   "cell_type": "code",
   "execution_count": 41,
   "metadata": {},
   "outputs": [],
   "source": [
    "from sklearn.model_selection import train_test_split\n"
   ]
  },
  {
   "cell_type": "code",
   "execution_count": 42,
   "metadata": {},
   "outputs": [
    {
     "name": "stdout",
     "output_type": "stream",
     "text": [
      "Datasets have been successfully split and saved.\n"
     ]
    }
   ],
   "source": [
    "train_dataset, temp_dataset = train_test_split(working_data, test_size=0.4, random_state=42)  # 60% train, 40% temp\n",
    "test_dataset, val_dataset = train_test_split(temp_dataset, test_size=0.5, random_state=42)  # Split temp into 50% test, 50% val\n",
    "\n",
    "# Save the datasets to CSV files\n",
    "train_dataset.to_csv('CoarseClassData/train_dataset.csv', index=False)\n",
    "test_dataset.to_csv('CoarseClassData/test_dataset.csv', index=False)\n",
    "val_dataset.to_csv('CoarseClassData/val_dataset.csv', index=False)\n",
    "\n",
    "print(\"Datasets have been successfully split and saved.\")"
   ]
  },
  {
   "cell_type": "code",
   "execution_count": 29,
   "metadata": {},
   "outputs": [],
   "source": [
    "readyData=pd.read_csv('readyData.csv')"
   ]
  },
  {
   "cell_type": "code",
   "execution_count": 30,
   "metadata": {},
   "outputs": [
    {
     "name": "stdout",
     "output_type": "stream",
     "text": [
      "Datasets have been successfully split and saved.\n"
     ]
    }
   ],
   "source": [
    "train_dataset, temp_dataset = train_test_split(readyData, test_size=0.4, random_state=42)  # 60% train, 40% temp\n",
    "test_dataset, val_dataset = train_test_split(temp_dataset, test_size=0.5, random_state=42)  # Split temp into 50% test, 50% val\n",
    "\n",
    "# Save the datasets to CSV files\n",
    "train_dataset.to_csv('FineClassData/train_dataset.csv', index=False)\n",
    "test_dataset.to_csv('FineClassData/test_dataset.csv', index=False)\n",
    "val_dataset.to_csv('FineClassData/val_dataset.csv', index=False)\n",
    "\n",
    "print(\"Datasets have been successfully split and saved.\")"
   ]
  },
  {
   "cell_type": "code",
   "execution_count": 31,
   "metadata": {},
   "outputs": [
    {
     "data": {
      "text/html": [
       "<div>\n",
       "<style scoped>\n",
       "    .dataframe tbody tr th:only-of-type {\n",
       "        vertical-align: middle;\n",
       "    }\n",
       "\n",
       "    .dataframe tbody tr th {\n",
       "        vertical-align: top;\n",
       "    }\n",
       "\n",
       "    .dataframe thead th {\n",
       "        text-align: right;\n",
       "    }\n",
       "</style>\n",
       "<table border=\"1\" class=\"dataframe\">\n",
       "  <thead>\n",
       "    <tr style=\"text-align: right;\">\n",
       "      <th></th>\n",
       "      <th>label</th>\n",
       "      <th>text</th>\n",
       "    </tr>\n",
       "  </thead>\n",
       "  <tbody>\n",
       "    <tr>\n",
       "      <th>0</th>\n",
       "      <td>faulty generalization</td>\n",
       "      <td>\"Annie must like Starbucks because all white g...</td>\n",
       "    </tr>\n",
       "    <tr>\n",
       "      <th>1</th>\n",
       "      <td>faulty generalization</td>\n",
       "      <td>It is warmer this year in Las Vegas as compare...</td>\n",
       "    </tr>\n",
       "    <tr>\n",
       "      <th>2</th>\n",
       "      <td>faulty generalization</td>\n",
       "      <td>\"The two courses I took at UF were not very in...</td>\n",
       "    </tr>\n",
       "    <tr>\n",
       "      <th>3</th>\n",
       "      <td>faulty generalization</td>\n",
       "      <td>A driver with a New York license plate cuts yo...</td>\n",
       "    </tr>\n",
       "    <tr>\n",
       "      <th>4</th>\n",
       "      <td>faulty generalization</td>\n",
       "      <td>\"Four out of five dentists recommend Happy Glo...</td>\n",
       "    </tr>\n",
       "  </tbody>\n",
       "</table>\n",
       "</div>"
      ],
      "text/plain": [
       "                   label                                               text\n",
       "0  faulty generalization  \"Annie must like Starbucks because all white g...\n",
       "1  faulty generalization  It is warmer this year in Las Vegas as compare...\n",
       "2  faulty generalization  \"The two courses I took at UF were not very in...\n",
       "3  faulty generalization  A driver with a New York license plate cuts yo...\n",
       "4  faulty generalization  \"Four out of five dentists recommend Happy Glo..."
      ]
     },
     "execution_count": 31,
     "metadata": {},
     "output_type": "execute_result"
    }
   ],
   "source": [
    "readyData.head()"
   ]
  },
  {
   "cell_type": "code",
   "execution_count": 46,
   "metadata": {},
   "outputs": [],
   "source": [
    "readyData['label'] = readyData['label'].apply(lambda x: x.replace('“', '\"').replace('”', '\"'))\n"
   ]
  },
  {
   "cell_type": "code",
   "execution_count": 51,
   "metadata": {},
   "outputs": [],
   "source": [
    "readyData['text'] = readyData['text'].apply(lambda x: x.replace('“', '\"').replace('”', '\"'))\n",
    "readyData['text'] = readyData['text'].apply(lambda x: x.replace('“', ' ').replace('”', '\"').replace('\\n', ' '))\n",
    "readyData=readyData[['text','label']]"
   ]
  },
  {
   "cell_type": "code",
   "execution_count": 52,
   "metadata": {},
   "outputs": [
    {
     "name": "stdout",
     "output_type": "stream",
     "text": [
      "Datasets have been successfully split and saved.\n"
     ]
    }
   ],
   "source": [
    "train_dataset, temp_dataset = train_test_split(readyData, test_size=0.4, random_state=42)  # 60% train, 40% temp\n",
    "test_dataset, val_dataset = train_test_split(temp_dataset, test_size=0.5, random_state=42)  # Split temp into 50% test, 50% val\n",
    "\n",
    "# Save the datasets to CSV files\n",
    "train_dataset.to_csv('FineClassData/train_dataset.csv', index=False)\n",
    "test_dataset.to_csv('FineClassData/test_dataset.csv', index=False)\n",
    "val_dataset.to_csv('FineClassData/val_dataset.csv', index=False)\n",
    "\n",
    "print(\"Datasets have been successfully split and saved.\")"
   ]
  },
  {
   "cell_type": "code",
   "execution_count": 44,
   "metadata": {},
   "outputs": [],
   "source": [
    "unique_values = readyData['label'].unique()\n"
   ]
  },
  {
   "cell_type": "code",
   "execution_count": 45,
   "metadata": {},
   "outputs": [
    {
     "name": "stdout",
     "output_type": "stream",
     "text": [
      "['faulty generalization' 'false causality' 'circular reasoning'\n",
      " 'ad populum' 'ad hominem' 'fallacy of logic' 'appeal to emotion'\n",
      " 'false dilemma' 'equivocation' 'fallacy of extension'\n",
      " 'fallacy of relevance' 'fallacy of credibility' 'intentional']\n"
     ]
    }
   ],
   "source": [
    "print(unique_values)"
   ]
  },
  {
   "cell_type": "code",
   "execution_count": 3,
   "metadata": {},
   "outputs": [
    {
     "data": {
      "text/plain": [
       "(2452, 6)"
      ]
     },
     "execution_count": 3,
     "metadata": {},
     "output_type": "execute_result"
    }
   ],
   "source": [
    "data=pd.read_csv(\"data.csv\")\n",
    "data.shape"
   ]
  }
 ],
 "metadata": {
  "kernelspec": {
   "display_name": "base",
   "language": "python",
   "name": "python3"
  },
  "language_info": {
   "codemirror_mode": {
    "name": "ipython",
    "version": 3
   },
   "file_extension": ".py",
   "mimetype": "text/x-python",
   "name": "python",
   "nbconvert_exporter": "python",
   "pygments_lexer": "ipython3",
   "version": "3.9.13"
  }
 },
 "nbformat": 4,
 "nbformat_minor": 2
}
